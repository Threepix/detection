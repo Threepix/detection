{
  "nbformat": 4,
  "nbformat_minor": 0,
  "metadata": {
    "colab": {
      "provenance": []
    },
    "kernelspec": {
      "name": "python3",
      "display_name": "Python 3"
    },
    "language_info": {
      "name": "python"
    }
  },
  "cells": [
    {
      "cell_type": "code",
      "execution_count": 1,
      "metadata": {
        "colab": {
          "base_uri": "https://localhost:8080/"
        },
        "id": "gkPGCOkUZ-A4",
        "outputId": "6c888861-8fb9-47b9-fa7d-0c381520017f"
      },
      "outputs": [
        {
          "output_type": "stream",
          "name": "stdout",
          "text": [
            "Cloning into 'CRAFT-pytorch'...\n",
            "remote: Enumerating objects: 59, done.\u001b[K\n",
            "remote: Total 59 (delta 0), reused 0 (delta 0), pack-reused 59\u001b[K\n",
            "Receiving objects: 100% (59/59), 1.69 MiB | 16.18 MiB/s, done.\n",
            "Resolving deltas: 100% (25/25), done.\n"
          ]
        }
      ],
      "source": [
        "!git clone https://github.com/clovaai/CRAFT-pytorch"
      ]
    },
    {
      "cell_type": "code",
      "source": [
        "%cd CRAFT-pytorch/"
      ],
      "metadata": {
        "colab": {
          "base_uri": "https://localhost:8080/"
        },
        "id": "m78ito_9a_F9",
        "outputId": "731a166b-2a8e-41ca-f06b-3292aef67676"
      },
      "execution_count": 2,
      "outputs": [
        {
          "output_type": "stream",
          "name": "stdout",
          "text": [
            "/content/CRAFT-pytorch\n"
          ]
        }
      ]
    },
    {
      "cell_type": "code",
      "source": [
        "!pip3 install torch torchvision torchaudio\n",
        "!pip3 install opencv-python\n",
        "!pip3 install scikit-image\n",
        "!pip3 install scipy"
      ],
      "metadata": {
        "colab": {
          "base_uri": "https://localhost:8080/"
        },
        "id": "UtJwvnNibLzk",
        "outputId": "37a08e78-2ea9-4ccf-af8c-779c6cd57bf5"
      },
      "execution_count": 3,
      "outputs": [
        {
          "output_type": "stream",
          "name": "stdout",
          "text": [
            "Requirement already satisfied: torch in /usr/local/lib/python3.10/dist-packages (2.0.1+cu118)\n",
            "Requirement already satisfied: torchvision in /usr/local/lib/python3.10/dist-packages (0.15.2+cu118)\n",
            "Requirement already satisfied: torchaudio in /usr/local/lib/python3.10/dist-packages (2.0.2+cu118)\n",
            "Requirement already satisfied: filelock in /usr/local/lib/python3.10/dist-packages (from torch) (3.12.2)\n",
            "Requirement already satisfied: typing-extensions in /usr/local/lib/python3.10/dist-packages (from torch) (4.7.1)\n",
            "Requirement already satisfied: sympy in /usr/local/lib/python3.10/dist-packages (from torch) (1.11.1)\n",
            "Requirement already satisfied: networkx in /usr/local/lib/python3.10/dist-packages (from torch) (3.1)\n",
            "Requirement already satisfied: jinja2 in /usr/local/lib/python3.10/dist-packages (from torch) (3.1.2)\n",
            "Requirement already satisfied: triton==2.0.0 in /usr/local/lib/python3.10/dist-packages (from torch) (2.0.0)\n",
            "Requirement already satisfied: cmake in /usr/local/lib/python3.10/dist-packages (from triton==2.0.0->torch) (3.25.2)\n",
            "Requirement already satisfied: lit in /usr/local/lib/python3.10/dist-packages (from triton==2.0.0->torch) (16.0.6)\n",
            "Requirement already satisfied: numpy in /usr/local/lib/python3.10/dist-packages (from torchvision) (1.22.4)\n",
            "Requirement already satisfied: requests in /usr/local/lib/python3.10/dist-packages (from torchvision) (2.27.1)\n",
            "Requirement already satisfied: pillow!=8.3.*,>=5.3.0 in /usr/local/lib/python3.10/dist-packages (from torchvision) (9.4.0)\n",
            "Requirement already satisfied: MarkupSafe>=2.0 in /usr/local/lib/python3.10/dist-packages (from jinja2->torch) (2.1.3)\n",
            "Requirement already satisfied: urllib3<1.27,>=1.21.1 in /usr/local/lib/python3.10/dist-packages (from requests->torchvision) (1.26.16)\n",
            "Requirement already satisfied: certifi>=2017.4.17 in /usr/local/lib/python3.10/dist-packages (from requests->torchvision) (2023.7.22)\n",
            "Requirement already satisfied: charset-normalizer~=2.0.0 in /usr/local/lib/python3.10/dist-packages (from requests->torchvision) (2.0.12)\n",
            "Requirement already satisfied: idna<4,>=2.5 in /usr/local/lib/python3.10/dist-packages (from requests->torchvision) (3.4)\n",
            "Requirement already satisfied: mpmath>=0.19 in /usr/local/lib/python3.10/dist-packages (from sympy->torch) (1.3.0)\n",
            "Requirement already satisfied: opencv-python in /usr/local/lib/python3.10/dist-packages (4.7.0.72)\n",
            "Requirement already satisfied: numpy>=1.21.2 in /usr/local/lib/python3.10/dist-packages (from opencv-python) (1.22.4)\n",
            "Requirement already satisfied: scikit-image in /usr/local/lib/python3.10/dist-packages (0.19.3)\n",
            "Requirement already satisfied: numpy>=1.17.0 in /usr/local/lib/python3.10/dist-packages (from scikit-image) (1.22.4)\n",
            "Requirement already satisfied: scipy>=1.4.1 in /usr/local/lib/python3.10/dist-packages (from scikit-image) (1.10.1)\n",
            "Requirement already satisfied: networkx>=2.2 in /usr/local/lib/python3.10/dist-packages (from scikit-image) (3.1)\n",
            "Requirement already satisfied: pillow!=7.1.0,!=7.1.1,!=8.3.0,>=6.1.0 in /usr/local/lib/python3.10/dist-packages (from scikit-image) (9.4.0)\n",
            "Requirement already satisfied: imageio>=2.4.1 in /usr/local/lib/python3.10/dist-packages (from scikit-image) (2.25.1)\n",
            "Requirement already satisfied: tifffile>=2019.7.26 in /usr/local/lib/python3.10/dist-packages (from scikit-image) (2023.7.18)\n",
            "Requirement already satisfied: PyWavelets>=1.1.1 in /usr/local/lib/python3.10/dist-packages (from scikit-image) (1.4.1)\n",
            "Requirement already satisfied: packaging>=20.0 in /usr/local/lib/python3.10/dist-packages (from scikit-image) (23.1)\n",
            "Requirement already satisfied: scipy in /usr/local/lib/python3.10/dist-packages (1.10.1)\n",
            "Requirement already satisfied: numpy<1.27.0,>=1.19.5 in /usr/local/lib/python3.10/dist-packages (from scipy) (1.22.4)\n"
          ]
        }
      ]
    },
    {
      "cell_type": "code",
      "source": [
        "! python pipeline.py --trained_model=/content/CRAFT-pytorch/weights/craft_mlt_25k.pth --test_folder=/content/CRAFT-pytorch/test_image --cuda=False"
      ],
      "metadata": {
        "colab": {
          "base_uri": "https://localhost:8080/"
        },
        "id": "iOejk8z1b3OB",
        "outputId": "24c24140-fdbf-49f3-9248-7a4de4c8c127"
      },
      "execution_count": 14,
      "outputs": [
        {
          "output_type": "stream",
          "name": "stdout",
          "text": [
            "/usr/local/lib/python3.10/dist-packages/torchvision/models/_utils.py:208: UserWarning: The parameter 'pretrained' is deprecated since 0.13 and may be removed in the future, please use 'weights' instead.\n",
            "  warnings.warn(\n",
            "/usr/local/lib/python3.10/dist-packages/torchvision/models/_utils.py:223: UserWarning: Arguments other than a weight enum or `None` for 'weights' are deprecated since 0.13 and may be removed in the future. The current behavior is equivalent to passing `weights=None`.\n",
            "  warnings.warn(msg)\n",
            "Loading weights from checkpoint (/content/CRAFT-pytorch/weights/craft_mlt_25k.pth)\n",
            "res_test.jpg\n",
            "res_eng_test.jpg\n",
            "res_test2.jpg\n",
            "elapsed time : 22.634755849838257s\n"
          ]
        }
      ]
    },
    {
      "cell_type": "code",
      "source": [
        "!python crop_image.py"
      ],
      "metadata": {
        "colab": {
          "base_uri": "https://localhost:8080/"
        },
        "id": "vN6fQhLvxBrG",
        "outputId": "a05403e9-649c-48b0-9819-a23cb25d9341"
      },
      "execution_count": 16,
      "outputs": [
        {
          "output_type": "stream",
          "name": "stdout",
          "text": [
            "Image saved to /content/CRAFT-pytorch/Crop Words/res_test_125.09112_37.34067_182.61406_35.597553_182.88684_44.599392_125.36389_46.34251.jpg\n",
            "Image saved to /content/CRAFT-pytorch/Crop Words/res_test_80.0_37.333332_121.333336_37.333332_121.333336_46.666668_80.0_46.666668.jpg\n",
            "Image saved to /content/CRAFT-pytorch/Crop Words/res_test_186.66667_37.333332_205.33333_37.333332_205.33333_44.0_186.66667_44.0.jpg\n",
            "Image saved to /content/CRAFT-pytorch/Crop Words/res_test_92.0_50.666668_160.0_50.666668_160.0_58.666668_92.0_58.666668.jpg\n",
            "Image saved to /content/CRAFT-pytorch/Crop Words/res_test_164.0_50.666668_200.0_50.666668_200.0_58.666668_164.0_58.666668.jpg\n",
            "Image saved to /content/CRAFT-pytorch/Crop Words/res_test_132.0_64.0_198.66667_64.0_198.66667_72.0_132.0_72.0.jpg\n",
            "Image saved to /content/CRAFT-pytorch/Crop Words/res_test_92.0_65.333336_126.666664_65.333336_126.666664_73.333336_92.0_73.333336.jpg\n",
            "Image saved to /content/CRAFT-pytorch/Crop Words/res_test_153.33333_77.333336_174.66667_77.333336_174.66667_86.666664_153.33333_86.666664.jpg\n",
            "Image saved to /content/CRAFT-pytorch/Crop Words/res_test_176.0_77.333336_194.66667_77.333336_194.66667_85.333336_176.0_85.333336.jpg\n",
            "Image saved to /content/CRAFT-pytorch/Crop Words/res_test_42.666668_78.666664_76.0_78.666664_76.0_86.666664_42.666668_86.666664.jpg\n",
            "Image saved to /content/CRAFT-pytorch/Crop Words/res_test_76.0_78.666664_100.0_78.666664_100.0_86.666664_76.0_86.666664.jpg\n",
            "Image saved to /content/CRAFT-pytorch/Crop Words/res_test_250.66667_96.0_260.0_96.0_260.0_132.0_250.66667_132.0.jpg\n",
            "Image saved to /content/CRAFT-pytorch/Crop Words/res_test_138.66667_210.66667_174.66667_210.66667_174.66667_218.66667_138.66667_218.66667.jpg\n",
            "Image saved to /content/CRAFT-pytorch/Crop Words/res_test_140.0_238.66667_180.0_238.66667_180.0_246.66667_140.0_246.66667.jpg\n",
            "Image saved to /content/CRAFT-pytorch/Crop Words/res_test_122.48758_253.3742_197.24379_251.35378_197.48418_260.2482_122.72797_262.26862.jpg\n",
            "Image saved to /content/CRAFT-pytorch/Crop Words/res_test_162.66667_268.0_178.66667_268.0_178.66667_276.0_162.66667_276.0.jpg\n",
            "Image saved to /content/CRAFT-pytorch/Crop Words/res_test_177.33333_268.0_192.0_268.0_192.0_276.0_177.33333_276.0.jpg\n",
            "Image saved to /content/CRAFT-pytorch/Crop Words/res_test_194.66667_268.0_218.66667_268.0_218.66667_276.0_194.66667_276.0.jpg\n",
            "Image saved to /content/CRAFT-pytorch/Crop Words/res_test_117.333336_282.66666_136.0_282.66666_136.0_290.66666_117.333336_290.66666.jpg\n",
            "Image saved to /content/CRAFT-pytorch/Crop Words/res_test_145.33333_282.66666_208.0_282.66666_208.0_290.66666_145.33333_290.66666.jpg\n",
            "Image saved to /content/CRAFT-pytorch/Crop Words/res_test_253.33333_286.66666_261.33334_286.66666_261.33334_322.66666_253.33333_322.66666.jpg\n",
            "Image saved to /content/CRAFT-pytorch/Crop Words/res_eng_test_37.414722_25.558271_85.71661_27.168333_85.28006_40.26489_36.97817_38.654827.jpg\n",
            "Image saved to /content/CRAFT-pytorch/Crop Words/res_eng_test_89.333336_26.666666_132.0_26.666666_132.0_40.0_89.333336_40.0.jpg\n",
            "Image saved to /content/CRAFT-pytorch/Crop Words/res_eng_test_136.0_26.666666_157.33333_26.666666_157.33333_38.666668_136.0_38.666668.jpg\n",
            "Image saved to /content/CRAFT-pytorch/Crop Words/res_eng_test_162.66667_28.0_196.0_28.0_196.0_38.666668_162.66667_38.666668.jpg\n",
            "Image saved to /content/CRAFT-pytorch/Crop Words/res_eng_test_25.333334_46.666668_61.333332_46.666668_61.333332_57.333332_25.333334_57.333332.jpg\n",
            "Image saved to /content/CRAFT-pytorch/Crop Words/res_eng_test_64.0_45.333332_108.0_45.333332_108.0_58.666668_64.0_58.666668.jpg\n",
            "Image saved to /content/CRAFT-pytorch/Crop Words/res_eng_test_112.0_45.333332_161.33333_45.333332_161.33333_57.333332_112.0_57.333332.jpg\n",
            "Image saved to /content/CRAFT-pytorch/Crop Words/res_eng_test_245.33333_45.333332_261.33334_45.333332_261.33334_57.333332_245.33333_57.333332.jpg\n",
            "Image saved to /content/CRAFT-pytorch/Crop Words/res_eng_test_442.43933_48.044586_497.25174_46.478516_497.5867_58.202282_442.7743_59.768353.jpg\n",
            "Image saved to /content/CRAFT-pytorch/Crop Words/res_eng_test_166.66667_48.0_206.66667_48.0_206.66667_58.666668_166.66667_58.666668.jpg\n",
            "Image saved to /content/CRAFT-pytorch/Crop Words/res_eng_test_208.0_48.0_246.66667_48.0_246.66667_57.333332_208.0_57.333332.jpg\n",
            "Image saved to /content/CRAFT-pytorch/Crop Words/res_eng_test_348.0_48.0_410.66666_48.0_410.66666_57.333332_348.0_57.333332.jpg\n",
            "Image saved to /content/CRAFT-pytorch/Crop Words/res_eng_test_281.33334_49.333332_342.66666_49.333332_342.66666_58.666668_281.33334_58.666668.jpg\n",
            "Image saved to /content/CRAFT-pytorch/Crop Words/res_eng_test_414.66666_48.0_437.33334_48.0_437.33334_58.666668_414.66666_58.666668.jpg\n",
            "Image saved to /content/CRAFT-pytorch/Crop Words/res_eng_test_64.0_64.0_108.0_64.0_108.0_78.666664_64.0_78.666664.jpg\n",
            "Image saved to /content/CRAFT-pytorch/Crop Words/res_eng_test_413.33334_64.0_429.33334_64.0_429.33334_76.0_413.33334_76.0.jpg\n",
            "Image saved to /content/CRAFT-pytorch/Crop Words/res_eng_test_25.333334_66.666664_60.0_66.666664_60.0_76.0_25.333334_76.0.jpg\n",
            "Image saved to /content/CRAFT-pytorch/Crop Words/res_eng_test_110.84553_66.94309_134.40651_64.3252_135.78862_76.76423_112.22765_79.38212.jpg\n",
            "Image saved to /content/CRAFT-pytorch/Crop Words/res_eng_test_138.66667_65.333336_174.66667_65.333336_174.66667_76.0_138.66667_76.0.jpg\n",
            "Image saved to /content/CRAFT-pytorch/Crop Words/res_eng_test_178.66667_65.333336_194.66667_65.333336_194.66667_76.0_178.66667_76.0.jpg\n",
            "Image saved to /content/CRAFT-pytorch/Crop Words/res_eng_test_281.33334_66.666664_342.66666_66.666664_342.66666_77.333336_281.33334_77.333336.jpg\n",
            "Image saved to /content/CRAFT-pytorch/Crop Words/res_eng_test_348.0_66.666664_369.33334_66.666664_369.33334_77.333336_348.0_77.333336.jpg\n",
            "Image saved to /content/CRAFT-pytorch/Crop Words/res_eng_test_374.66666_66.666664_410.66666_66.666664_410.66666_77.333336_374.66666_77.333336.jpg\n",
            "Image saved to /content/CRAFT-pytorch/Crop Words/res_eng_test_213.33333_68.0_274.66666_68.0_274.66666_77.333336_213.33333_77.333336.jpg\n",
            "Image saved to /content/CRAFT-pytorch/Crop Words/res_eng_test_37.414722_101.558266_85.71661_103.168335_85.28006_116.26489_36.97817_114.65482.jpg\n",
            "Image saved to /content/CRAFT-pytorch/Crop Words/res_eng_test_89.333336_102.666664_132.0_102.666664_132.0_116.0_89.333336_116.0.jpg\n",
            "Image saved to /content/CRAFT-pytorch/Crop Words/res_eng_test_136.0_102.666664_157.33333_102.666664_157.33333_114.666664_136.0_114.666664.jpg\n",
            "Image saved to /content/CRAFT-pytorch/Crop Words/res_eng_test_162.66667_104.0_190.66667_104.0_190.66667_114.666664_162.66667_114.666664.jpg\n",
            "Image saved to /content/CRAFT-pytorch/Crop Words/res_eng_test_196.0_104.0_236.0_104.0_236.0_114.666664_196.0_114.666664.jpg\n",
            "Image saved to /content/CRAFT-pytorch/Crop Words/res_eng_test_25.333334_122.666664_60.0_122.666664_60.0_133.33333_25.333334_133.33333.jpg\n",
            "Image saved to /content/CRAFT-pytorch/Crop Words/res_eng_test_64.0_121.333336_108.0_121.333336_108.0_134.66667_64.0_134.66667.jpg\n",
            "Image saved to /content/CRAFT-pytorch/Crop Words/res_eng_test_140.1363_121.925446_180.3919_123.535675_179.93823_134.87753_139.68263_133.2673.jpg\n",
            "Image saved to /content/CRAFT-pytorch/Crop Words/res_eng_test_178.66667_121.333336_194.66667_121.333336_194.66667_133.33333_178.66667_133.33333.jpg\n",
            "Image saved to /content/CRAFT-pytorch/Crop Words/res_eng_test_281.33334_122.666664_342.66666_122.666664_342.66666_133.33333_281.33334_133.33333.jpg\n",
            "Image saved to /content/CRAFT-pytorch/Crop Words/res_eng_test_413.33334_121.333336_429.33334_121.333336_429.33334_133.33333_413.33334_133.33333.jpg\n",
            "Image saved to /content/CRAFT-pytorch/Crop Words/res_eng_test_213.11137_124.23306_274.60324_122.73327_274.86166_133.32858_213.3698_134.82838.jpg\n",
            "Image saved to /content/CRAFT-pytorch/Crop Words/res_eng_test_374.66666_124.0_414.66666_124.0_414.66666_134.66667_374.66666_134.66667.jpg\n",
            "Image saved to /content/CRAFT-pytorch/Crop Words/res_eng_test_113.333336_125.333336_133.33333_125.333336_133.33333_133.33333_113.333336_133.33333.jpg\n",
            "Image saved to /content/CRAFT-pytorch/Crop Words/res_eng_test_346.66666_124.0_369.33334_124.0_369.33334_134.66667_346.66666_134.66667.jpg\n",
            "Image saved to /content/CRAFT-pytorch/Crop Words/res_eng_test_64.0_140.0_106.666664_140.0_106.666664_154.66667_64.0_154.66667.jpg\n",
            "Image saved to /content/CRAFT-pytorch/Crop Words/res_eng_test_225.33333_140.0_289.33334_140.0_289.33334_152.0_225.33333_152.0.jpg\n",
            "Image saved to /content/CRAFT-pytorch/Crop Words/res_eng_test_292.0_140.0_336.0_140.0_336.0_152.0_292.0_152.0.jpg\n",
            "Image saved to /content/CRAFT-pytorch/Crop Words/res_eng_test_25.333334_142.66667_60.0_142.66667_60.0_152.0_25.333334_152.0.jpg\n",
            "Image saved to /content/CRAFT-pytorch/Crop Words/res_eng_test_140.0_142.66667_181.33333_142.66667_181.33333_154.66667_140.0_154.66667.jpg\n",
            "Image saved to /content/CRAFT-pytorch/Crop Words/res_eng_test_198.66667_141.33333_222.66667_141.33333_222.66667_152.0_198.66667_152.0.jpg\n",
            "Image saved to /content/CRAFT-pytorch/Crop Words/res_eng_test_112.0_144.0_134.66667_144.0_134.66667_152.0_112.0_152.0.jpg\n",
            "Image saved to /content/CRAFT-pytorch/Crop Words/res_eng_test_266.66666_158.66667_322.66666_158.66667_322.66666_172.0_266.66666_172.0.jpg\n",
            "Image saved to /content/CRAFT-pytorch/Crop Words/res_eng_test_24.0_160.0_60.0_160.0_60.0_172.0_24.0_172.0.jpg\n",
            "Image saved to /content/CRAFT-pytorch/Crop Words/res_eng_test_64.0_160.0_108.0_160.0_108.0_173.33333_64.0_173.33333.jpg\n",
            "Image saved to /content/CRAFT-pytorch/Crop Words/res_eng_test_112.0_160.0_148.0_160.0_148.0_173.33333_112.0_173.33333.jpg\n",
            "Image saved to /content/CRAFT-pytorch/Crop Words/res_eng_test_152.0_160.0_208.0_160.0_208.0_173.33333_152.0_173.33333.jpg\n",
            "Image saved to /content/CRAFT-pytorch/Crop Words/res_eng_test_225.33333_160.0_262.66666_160.0_262.66666_172.0_225.33333_172.0.jpg\n",
            "Image saved to /content/CRAFT-pytorch/Crop Words/res_eng_test_24.0_178.66667_60.0_178.66667_60.0_190.66667_24.0_190.66667.jpg\n",
            "Image saved to /content/CRAFT-pytorch/Crop Words/res_eng_test_65.333336_178.66667_106.666664_178.66667_106.666664_192.0_65.333336_192.0.jpg\n",
            "Image saved to /content/CRAFT-pytorch/Crop Words/res_eng_test_112.0_178.66667_160.0_178.66667_160.0_192.0_112.0_192.0.jpg\n",
            "Image saved to /content/CRAFT-pytorch/Crop Words/res_eng_test_158.66667_178.66667_208.0_178.66667_208.0_192.0_158.66667_192.0.jpg\n",
            "Image saved to /content/CRAFT-pytorch/Crop Words/res_eng_test_225.33333_178.66667_269.33334_178.66667_269.33334_190.66667_225.33333_190.66667.jpg\n",
            "Image saved to /content/CRAFT-pytorch/Crop Words/res_eng_test_273.33334_178.66667_321.33334_178.66667_321.33334_190.66667_273.33334_190.66667.jpg\n",
            "Image saved to /content/CRAFT-pytorch/Crop Words/res_eng_test_24.0_197.33333_60.0_197.33333_60.0_209.33333_24.0_209.33333.jpg\n",
            "Image saved to /content/CRAFT-pytorch/Crop Words/res_eng_test_64.0_197.33333_108.0_197.33333_108.0_210.66667_64.0_210.66667.jpg\n",
            "Image saved to /content/CRAFT-pytorch/Crop Words/res_eng_test_140.0_198.66667_173.33333_198.66667_173.33333_209.33333_140.0_209.33333.jpg\n",
            "Image saved to /content/CRAFT-pytorch/Crop Words/res_eng_test_192.0_197.33333_217.33333_197.33333_217.33333_209.33333_192.0_209.33333.jpg\n",
            "Image saved to /content/CRAFT-pytorch/Crop Words/res_eng_test_218.66667_197.33333_254.66667_197.33333_254.66667_209.33333_218.66667_209.33333.jpg\n",
            "Image saved to /content/CRAFT-pytorch/Crop Words/res_eng_test_113.333336_201.33333_134.66667_201.33333_134.66667_209.33333_113.333336_209.33333.jpg\n",
            "Image saved to /content/CRAFT-pytorch/Crop Words/res_test2_87.851616_12.870942_222.60852_10.829156_222.80806_23.997849_88.05115_26.039637.jpg\n",
            "Image saved to /content/CRAFT-pytorch/Crop Words/res_test2_56.0_14.666667_85.333336_14.666667_85.333336_25.333334_56.0_25.333334.jpg\n",
            "Image saved to /content/CRAFT-pytorch/Crop Words/res_test2_264.0_14.666665_393.33334_14.666667_393.33334_26.666662_264.0_26.666662.jpg\n",
            "Image saved to /content/CRAFT-pytorch/Crop Words/res_test2_248.0_16.0_258.66666_16.0_258.66666_24.0_248.0_24.0.jpg\n",
            "Image saved to /content/CRAFT-pytorch/Crop Words/res_test2_141.33333_50.666668_222.66667_50.666668_222.66667_69.333336_141.33333_69.333336.jpg\n",
            "Image saved to /content/CRAFT-pytorch/Crop Words/res_test2_225.33333_52.0_336.0_52.0_336.0_69.333336_225.33333_69.333336.jpg\n",
            "Image saved to /content/CRAFT-pytorch/Crop Words/res_test2_336.0_53.333332_370.66666_53.333332_370.66666_72.0_336.0_72.0.jpg\n",
            "Image saved to /content/CRAFT-pytorch/Crop Words/res_test2_194.66667_76.0_308.0_76.0_308.0_93.333336_194.66667_93.333336.jpg\n",
            "Image saved to /content/CRAFT-pytorch/Crop Words/res_test2_426.66666_86.666664_437.33334_86.666664_437.33334_96.0_426.66666_96.0.jpg\n",
            "Image saved to /content/CRAFT-pytorch/Crop Words/res_test2_194.66667_98.666664_228.0_98.666664_228.0_113.333336_194.66667_113.333336.jpg\n",
            "Image saved to /content/CRAFT-pytorch/Crop Words/res_test2_234.66667_98.666664_308.0_98.666664_308.0_116.0_234.66667_116.0.jpg\n",
            "Image saved to /content/CRAFT-pytorch/Crop Words/res_test2_425.33334_117.333336_438.66666_117.333336_438.66666_136.0_425.33334_136.0.jpg\n",
            "Image saved to /content/CRAFT-pytorch/Crop Words/res_test2_81.333336_125.333336_101.333336_125.333336_101.333336_140.0_81.333336_140.0.jpg\n",
            "Image saved to /content/CRAFT-pytorch/Crop Words/res_test2_102.666664_125.333336_122.666664_125.333336_122.666664_140.0_102.666664_140.0.jpg\n",
            "Image saved to /content/CRAFT-pytorch/Crop Words/res_test2_124.0_125.333336_161.33333_125.333336_161.33333_140.0_124.0_140.0.jpg\n",
            "Image saved to /content/CRAFT-pytorch/Crop Words/res_test2_248.0_126.666664_306.66666_126.666664_306.66666_141.33333_248.0_141.33333.jpg\n",
            "Image saved to /content/CRAFT-pytorch/Crop Words/res_test2_28.0_129.33333_45.333332_129.33333_45.333332_137.33333_28.0_137.33333.jpg\n",
            "Image saved to /content/CRAFT-pytorch/Crop Words/res_test2_424.0_157.33333_438.66666_157.33333_438.66666_218.66667_424.0_218.66667.jpg\n",
            "Image saved to /content/CRAFT-pytorch/Crop Words/res_test2_202.66667_357.33334_290.66666_357.33334_290.66666_374.66666_202.66667_374.66666.jpg\n",
            "Image saved to /content/CRAFT-pytorch/Crop Words/res_test2_200.21294_395.20947_276.65454_398.60684_275.79895_417.85776_199.35735_414.46036.jpg\n",
            "Image saved to /content/CRAFT-pytorch/Crop Words/res_test2_201.33333_422.66666_312.0_422.66666_312.0_440.0_201.33333_440.0.jpg\n",
            "Image saved to /content/CRAFT-pytorch/Crop Words/res_test2_424.0_440.0_438.66666_440.0_438.66666_458.66666_424.0_458.66666.jpg\n",
            "Image saved to /content/CRAFT-pytorch/Crop Words/res_test2_172.0_450.66666_204.0_450.66666_204.0_462.66666_172.0_462.66666.jpg\n",
            "Image saved to /content/CRAFT-pytorch/Crop Words/res_test2_281.33334_450.66666_301.33334_450.66666_301.33334_464.0_281.33334_464.0.jpg\n",
            "Image saved to /content/CRAFT-pytorch/Crop Words/res_test2_304.0_450.66666_324.0_450.66666_324.0_464.0_304.0_464.0.jpg\n",
            "Image saved to /content/CRAFT-pytorch/Crop Words/res_test2_325.33334_450.66666_361.33334_450.66666_361.33334_465.33334_325.33334_465.33334.jpg\n",
            "Image saved to /content/CRAFT-pytorch/Crop Words/res_test2_194.66667_477.33334_226.66667_477.33334_226.66667_490.66666_194.66667_490.66666.jpg\n",
            "Image saved to /content/CRAFT-pytorch/Crop Words/res_test2_236.0_478.66666_298.66666_478.66666_298.66666_493.33334_236.0_493.33334.jpg\n",
            "Image saved to /content/CRAFT-pytorch/Crop Words/res_test2_424.0_478.66666_438.66666_478.66666_438.66666_541.3333_424.0_541.3333.jpg\n"
          ]
        }
      ]
    }
  ]
}